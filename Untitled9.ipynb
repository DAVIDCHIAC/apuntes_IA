{
  "nbformat": 4,
  "nbformat_minor": 0,
  "metadata": {
    "colab": {
      "provenance": [],
      "authorship_tag": "ABX9TyPO+A90vvJ5Eca2oZed2tZl",
      "include_colab_link": true
    },
    "kernelspec": {
      "name": "python3",
      "display_name": "Python 3"
    },
    "language_info": {
      "name": "python"
    }
  },
  "cells": [
    {
      "cell_type": "markdown",
      "metadata": {
        "id": "view-in-github",
        "colab_type": "text"
      },
      "source": [
        "<a href=\"https://colab.research.google.com/github/DAVIDCHIAC/apuntes_IA/blob/main/Untitled9.ipynb\" target=\"_parent\"><img src=\"https://colab.research.google.com/assets/colab-badge.svg\" alt=\"Open In Colab\"/></a>"
      ]
    },
    {
      "cell_type": "code",
      "execution_count": null,
      "metadata": {
        "id": "Z2k7RegCJ4Pd"
      },
      "outputs": [],
      "source": [
        "#variables en py\n",
        "la variables catgoricas o text se guardan inicialmente en tipo object\n",
        "las variables numericas se guardan inicialmente en tipo int o float (8,16,32,64)"
      ]
    },
    {
      "cell_type": "markdown",
      "source": [
        "# cargar los daoto\n",
        "## cargar un dataframe\n",
        "## crear dataset usando  numpy\n",
        "\n"
      ],
      "metadata": {
        "id": "zz1f-Fs1KWph"
      }
    },
    {
      "cell_type": "code",
      "source": [
        "import pandas as pd\n",
        "import numpy as np\n",
        "\n",
        "# Crear un dataset simulado\n",
        "np.random.seed(42)\n",
        "data = {\n",
        "    \"Estudiante\": [f\"E{i}\" for i in range(1, 21)],\n",
        "    \"Edad\": np.random.randint(18, 25, size=20),\n",
        "    \"Género\": np.random.choice([\"Femenino\", \"Masculino\"], size=20),\n",
        "    \"Nota_Matemáticas\": np.random.normal(70, 10, size=20).round(1),\n",
        "    \"Nota_Ciencias\": np.random.normal(75, 12, size=20).round(1),\n",
        "    \"Nota_Inglés\": np.random.normal(65, 15, size=20).round(1),\n",
        "}\n",
        "df = pd.DataFrame(data)\n",
        "\n",
        "# Mostrar el dataset\n",
        "print(df.head())\n"
      ],
      "metadata": {
        "colab": {
          "base_uri": "https://localhost:8080/"
        },
        "id": "YVmaUITUKjIQ",
        "outputId": "86067433-7cf4-47ec-dc74-3d9fe4b9881a"
      },
      "execution_count": 1,
      "outputs": [
        {
          "output_type": "stream",
          "name": "stdout",
          "text": [
            "  Estudiante  Edad     Género  Nota_Matemáticas  Nota_Ciencias  Nota_Inglés\n",
            "0         E1    24  Masculino              72.2           69.5         41.6\n",
            "1         E2    21  Masculino              62.3           75.8         53.1\n",
            "2         E3    22  Masculino              71.4           72.9         79.0\n",
            "3         E4    24  Masculino              69.7           89.4         75.2\n",
            "4         E5    20  Masculino              81.3           83.4         75.5\n"
          ]
        }
      ]
    }
  ]
}